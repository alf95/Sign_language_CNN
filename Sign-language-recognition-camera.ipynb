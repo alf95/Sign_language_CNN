{
 "cells": [
  {
   "cell_type": "code",
   "execution_count": 1,
   "metadata": {},
   "outputs": [],
   "source": [
    "import cv2\n",
    "import numpy as np\n",
    "import os\n",
    "import matplotlib.pyplot as plt"
   ]
  },
  {
   "cell_type": "code",
   "execution_count": 2,
   "metadata": {},
   "outputs": [],
   "source": [
    "%matplotlib inline"
   ]
  },
  {
   "cell_type": "code",
   "execution_count": 3,
   "metadata": {},
   "outputs": [
    {
     "name": "stderr",
     "output_type": "stream",
     "text": [
      "Using TensorFlow backend.\n"
     ]
    }
   ],
   "source": [
    "from keras.models import load_model"
   ]
  },
  {
   "cell_type": "code",
   "execution_count": 4,
   "metadata": {},
   "outputs": [],
   "source": [
    "from keras.applications import inception_v3"
   ]
  },
  {
   "cell_type": "code",
   "execution_count": 5,
   "metadata": {},
   "outputs": [
    {
     "name": "stdout",
     "output_type": "stream",
     "text": [
      "WARNING:tensorflow:From C:\\Users\\alfre\\Anaconda3\\lib\\site-packages\\tensorflow\\python\\framework\\op_def_library.py:263: colocate_with (from tensorflow.python.framework.ops) is deprecated and will be removed in a future version.\n",
      "Instructions for updating:\n",
      "Colocations handled automatically by placer.\n",
      "WARNING:tensorflow:From C:\\Users\\alfre\\Anaconda3\\lib\\keras\\backend\\tensorflow_backend.py:3368: calling dropout (from tensorflow.python.ops.nn_ops) with keep_prob is deprecated and will be removed in a future version.\n",
      "Instructions for updating:\n",
      "Please use `rate` instead of `keep_prob`. Rate should be set to `rate = 1 - keep_prob`.\n",
      "WARNING:tensorflow:From C:\\Users\\alfre\\Anaconda3\\lib\\site-packages\\tensorflow\\python\\ops\\math_ops.py:3066: to_int32 (from tensorflow.python.ops.math_ops) is deprecated and will be removed in a future version.\n",
      "Instructions for updating:\n",
      "Use tf.cast instead.\n"
     ]
    }
   ],
   "source": [
    "model = load_model('sign-language/sign_language_model.h5')"
   ]
  },
  {
   "cell_type": "code",
   "execution_count": 3,
   "metadata": {},
   "outputs": [],
   "source": [
    "# get the reference to the webcam\n",
    "CAMERA = cv2.VideoCapture(1) #con 0 utilizzo la camera personalizzabile dall'app ManyCam, con 1 quella di default\n",
    "\n",
    "while(True):\n",
    "    # read a new frame\n",
    "    _, frame = CAMERA.read()\n",
    "\n",
    "    # show the frame\n",
    "    cv2.imshow(\"Capturing frames\", frame)\n",
    "\n",
    "    # quit camera if 'q' key is pressed\n",
    "    if cv2.waitKey(1) & 0xFF == ord(\"q\"):\n",
    "        break\n",
    "\n",
    "CAMERA.release()\n",
    "cv2.destroyAllWindows()"
   ]
  },
  {
   "cell_type": "code",
   "execution_count": 3,
   "metadata": {},
   "outputs": [],
   "source": [
    "# get the reference to the webcam\n",
    "CAMERA = cv2.VideoCapture(1)\n",
    "HEIGHT = 500\n",
    "\n",
    "while(True):\n",
    "    # read a new frame\n",
    "    _, frame = CAMERA.read()\n",
    "    \n",
    "    # flip the frame\n",
    "    frame = cv2.flip(frame, 1)\n",
    "\n",
    "    # rescaling camera output\n",
    "    aspect = frame.shape[1] / float(frame.shape[0])\n",
    "    res = int(aspect * HEIGHT) # landscape orientation - wide image\n",
    "    frame = cv2.resize(frame, (res, HEIGHT))\n",
    "\n",
    "    # add rectangle\n",
    "    cv2.rectangle(frame, (300, 75), (650, 425), (0, 255, 0), 2)\n",
    "\n",
    "    # show the frame\n",
    "    cv2.imshow(\"Capturing frames\", frame)\n",
    "\n",
    "    # quit camera if 'q' key is pressed\n",
    "    if cv2.waitKey(1) & 0xFF == ord(\"q\"):\n",
    "        break\n",
    "\n",
    "CAMERA.release()\n",
    "cv2.destroyAllWindows()"
   ]
  },
  {
   "cell_type": "code",
   "execution_count": 10,
   "metadata": {},
   "outputs": [
    {
     "ename": "TypeError",
     "evalue": "No loop matching the specified signature and casting\nwas found for ufunc true_divide",
     "output_type": "error",
     "traceback": [
      "\u001b[1;31m---------------------------------------------------------------------------\u001b[0m",
      "\u001b[1;31mTypeError\u001b[0m                                 Traceback (most recent call last)",
      "\u001b[1;32m<ipython-input-10-94b045d9e4c5>\u001b[0m in \u001b[0;36m<module>\u001b[1;34m()\u001b[0m\n\u001b[0;32m     32\u001b[0m \u001b[1;33m\u001b[0m\u001b[0m\n\u001b[0;32m     33\u001b[0m     \u001b[1;31m#roi = inception_v3.preprocess_input(roi)\u001b[0m\u001b[1;33m\u001b[0m\u001b[1;33m\u001b[0m\u001b[1;33m\u001b[0m\u001b[0m\n\u001b[1;32m---> 34\u001b[1;33m     \u001b[0mroi\u001b[0m \u001b[1;33m/=\u001b[0m \u001b[1;36m255\u001b[0m\u001b[1;33m\u001b[0m\u001b[1;33m\u001b[0m\u001b[0m\n\u001b[0m\u001b[0;32m     35\u001b[0m     \u001b[0mprint\u001b[0m\u001b[1;33m(\u001b[0m\u001b[0mroi\u001b[0m\u001b[1;33m.\u001b[0m\u001b[0mshape\u001b[0m\u001b[1;33m)\u001b[0m\u001b[1;33m\u001b[0m\u001b[1;33m\u001b[0m\u001b[0m\n\u001b[0;32m     36\u001b[0m     \u001b[0mprint\u001b[0m\u001b[1;33m(\u001b[0m\u001b[0mroi\u001b[0m\u001b[1;33m)\u001b[0m\u001b[1;33m\u001b[0m\u001b[1;33m\u001b[0m\u001b[0m\n",
      "\u001b[1;31mTypeError\u001b[0m: No loop matching the specified signature and casting\nwas found for ufunc true_divide"
     ]
    }
   ],
   "source": [
    "import time \n",
    "\n",
    "# get the reference to the webcam\n",
    "camera = cv2.VideoCapture(1)\n",
    "camera_height = 500\n",
    "\n",
    "while(True):\n",
    "    # read a new frame\n",
    "    _, frame = camera.read()\n",
    "    \n",
    "    # flip the frameq\n",
    "    frame = cv2.flip(frame, 1)\n",
    "\n",
    "    # rescaling camera output\n",
    "    aspect = frame.shape[1] / float(frame.shape[0])\n",
    "    res = int(aspect * camera_height) # landscape orientation - wide image\n",
    "    frame = cv2.resize(frame, (res, camera_height))\n",
    "\n",
    "    # add rectangle\n",
    "    cv2.rectangle(frame, (300, 75), (650, 425), (240, 100, 0), 2)\n",
    "\n",
    "    # get ROI\n",
    "    roi = frame[75+2:425-2, 300+2:650-2]\n",
    "    \n",
    "    # parse BRG to RGB\n",
    "    roi = cv2.cvtColor(roi, cv2.COLOR_BGR2GRAY)\n",
    "\n",
    "    # resize to 224*224\n",
    "    roi = cv2.resize(roi, (28, 28))\n",
    "    \n",
    "    cv2.imshow('gray_image', roi)\n",
    "    \n",
    "    #roi = inception_v3.preprocess_input(roi)\n",
    "    roi = roi.astype('float32')\n",
    "    roi /= 255\n",
    "    #print(roi.shape)\n",
    "    #print(roi)\n",
    "   # print(roi.shape)\n",
    "\n",
    "    # predict!\n",
    "    roi2 = np.array(roi.reshape(1,28,28,1)) \n",
    "    print('roi2 \\n')\n",
    "    print(roi2)\n",
    "    predictions = model.predict(roi2)\n",
    "    print(predictions[0])\n",
    " \n",
    "\n",
    "    # add text\n",
    "    label_1 = '{} : {}'.format(\"La lettera e'\",predictions[0].argmax())\n",
    "    cv2.putText(frame, label_1, (70, 170), \n",
    "                cv2.FONT_HERSHEY_SIMPLEX, 0.9, (20, 240, 150), 2)\n",
    "    \n",
    "    # show the frame\n",
    "    cv2.imshow(\"Real Time object detection\", frame)\n",
    "\n",
    "    key = cv2.waitKey(1)\n",
    "\n",
    "    # quit camera if 'q' key is pressed\n",
    "    if key & 0xFF == ord(\"q\"):\n",
    "        break\n",
    "    elif key & 0xFF == ord(\"s\"):\n",
    "        # save the frame\n",
    "        #RAW_FRAMES.append(frame)\n",
    "        \n",
    "        # preview the frame\n",
    "        plt.imshow(frame)\n",
    "        plt.show()\n",
    "\n",
    "\n",
    "camera.release()\n",
    "cv2.destroyAllWindows()"
   ]
  },
  {
   "cell_type": "code",
   "execution_count": null,
   "metadata": {},
   "outputs": [],
   "source": []
  }
 ],
 "metadata": {
  "kernelspec": {
   "display_name": "Python 3",
   "language": "python",
   "name": "python3"
  },
  "language_info": {
   "codemirror_mode": {
    "name": "ipython",
    "version": 3
   },
   "file_extension": ".py",
   "mimetype": "text/x-python",
   "name": "python",
   "nbconvert_exporter": "python",
   "pygments_lexer": "ipython3",
   "version": "3.6.8"
  }
 },
 "nbformat": 4,
 "nbformat_minor": 2
}
